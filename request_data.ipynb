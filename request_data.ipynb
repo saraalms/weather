{
 "cells": [
  {
   "cell_type": "code",
   "execution_count": 1,
   "source": [
    "import requests\n",
    "import pandas as pd"
   ],
   "outputs": [],
   "metadata": {}
  },
  {
   "cell_type": "markdown",
   "source": [
    "URLS"
   ],
   "metadata": {}
  },
  {
   "cell_type": "code",
   "execution_count": 2,
   "source": [
    "def get_point_url(base_url, lon, lat):\n",
    "    return base_url + f'/api/category/pmp3g/version/2/geotype/point/lon/{lon}/lat/{lat}/data.json'"
   ],
   "outputs": [],
   "metadata": {}
  },
  {
   "cell_type": "code",
   "execution_count": 3,
   "source": [
    "base_url = 'https://opendata-download-metfcst.smhi.se'\n",
    "params_url = '/api/category/pmp3g/version/2/parameter.json'\n",
    "valid_times_url = '/api/category/pmp3g/version/2/validtime.json'"
   ],
   "outputs": [],
   "metadata": {}
  },
  {
   "cell_type": "markdown",
   "source": [
    "Get parameters"
   ],
   "metadata": {}
  },
  {
   "cell_type": "code",
   "execution_count": 4,
   "source": [
    "parameter_response = requests.get(base_url+params_url).json()['parameter']\n",
    "\n",
    "parameter_dict = {}\n",
    "parameter_list = []\n",
    "\n",
    "for element in parameter_response:\n",
    "    parameter_list.append(element['name'])\n",
    "    parameter_dict[element['name']] = element\n"
   ],
   "outputs": [],
   "metadata": {}
  },
  {
   "cell_type": "markdown",
   "source": [
    "Get locations with Name, Latitud, Longitud and Höjd (m)"
   ],
   "metadata": {}
  },
  {
   "cell_type": "code",
   "execution_count": 5,
   "source": [
    "locations_df = pd.read_csv('smhi_locations.csv', sep=';')\n",
    "locations_df = locations_df.where(locations_df['Aktiv']=='Ja').dropna().drop(columns=['Id', 'Aktiv'])"
   ],
   "outputs": [],
   "metadata": {}
  },
  {
   "cell_type": "code",
   "execution_count": 6,
   "source": [
    "selected_locations = ['Stockholm']"
   ],
   "outputs": [],
   "metadata": {}
  },
  {
   "cell_type": "code",
   "execution_count": 7,
   "source": [
    "valid_times = requests.get(base_url+valid_times_url).json()"
   ],
   "outputs": [],
   "metadata": {}
  },
  {
   "cell_type": "code",
   "execution_count": 8,
   "source": [
    "lat = locations_df.where(locations_df['Namn'] == 'Stockholm').dropna()['Latitud'].values[0]\n",
    "lon = locations_df.where(locations_df['Namn'] == 'Stockholm').dropna()['Longitud'].values[0]\n",
    "print(str(lat) + ', ' + str(lon))"
   ],
   "outputs": [
    {
     "output_type": "stream",
     "name": "stdout",
     "text": [
      "59.3417, 18.0549\n"
     ]
    }
   ],
   "metadata": {}
  },
  {
   "cell_type": "code",
   "execution_count": 10,
   "source": [
    "print(get_point_url(base_url, lon, lat))\n",
    "point_response = requests.get(get_point_url(base_url, lon, lat))\n",
    "point_response"
   ],
   "outputs": [
    {
     "output_type": "stream",
     "name": "stdout",
     "text": [
      "https://opendata-download-metfcst.smhi.se/api/category/pmp3g/version/2/geotype/point/lon/18.0549/lat/59.3417/data.json\n"
     ]
    },
    {
     "output_type": "execute_result",
     "data": {
      "text/plain": [
       "<Response [200]>"
      ]
     },
     "metadata": {},
     "execution_count": 10
    }
   ],
   "metadata": {}
  },
  {
   "cell_type": "code",
   "execution_count": 14,
   "source": [
    "json_point = point_response.json()\n"
   ],
   "outputs": [],
   "metadata": {}
  },
  {
   "cell_type": "code",
   "execution_count": 15,
   "source": [
    "ts = json_point['timeSeries']"
   ],
   "outputs": [],
   "metadata": {}
  },
  {
   "cell_type": "code",
   "execution_count": 28,
   "source": [
    "ts[1]['parameters']"
   ],
   "outputs": [
    {
     "output_type": "execute_result",
     "data": {
      "text/plain": [
       "[{'name': 'spp',\n",
       "  'levelType': 'hl',\n",
       "  'level': 0,\n",
       "  'unit': 'percent',\n",
       "  'values': [0.0]},\n",
       " {'name': 'pcat',\n",
       "  'levelType': 'hl',\n",
       "  'level': 0,\n",
       "  'unit': 'category',\n",
       "  'values': [3]},\n",
       " {'name': 'pmin',\n",
       "  'levelType': 'hl',\n",
       "  'level': 0,\n",
       "  'unit': 'kg/m2/h',\n",
       "  'values': [0.0]},\n",
       " {'name': 'pmean',\n",
       "  'levelType': 'hl',\n",
       "  'level': 0,\n",
       "  'unit': 'kg/m2/h',\n",
       "  'values': [0.0]},\n",
       " {'name': 'pmax',\n",
       "  'levelType': 'hl',\n",
       "  'level': 0,\n",
       "  'unit': 'kg/m2/h',\n",
       "  'values': [0.1]},\n",
       " {'name': 'pmedian',\n",
       "  'levelType': 'hl',\n",
       "  'level': 0,\n",
       "  'unit': 'kg/m2/h',\n",
       "  'values': [0.0]},\n",
       " {'name': 'tcc_mean',\n",
       "  'levelType': 'hl',\n",
       "  'level': 0,\n",
       "  'unit': 'octas',\n",
       "  'values': [8]},\n",
       " {'name': 'lcc_mean',\n",
       "  'levelType': 'hl',\n",
       "  'level': 0,\n",
       "  'unit': 'octas',\n",
       "  'values': [8]},\n",
       " {'name': 'mcc_mean',\n",
       "  'levelType': 'hl',\n",
       "  'level': 0,\n",
       "  'unit': 'octas',\n",
       "  'values': [8.0]},\n",
       " {'name': 'hcc_mean',\n",
       "  'levelType': 'hl',\n",
       "  'level': 0,\n",
       "  'unit': 'octas',\n",
       "  'values': [8]},\n",
       " {'name': 't', 'levelType': 'hl', 'level': 2, 'unit': 'Cel', 'values': [14.0]},\n",
       " {'name': 'msl',\n",
       "  'levelType': 'hmsl',\n",
       "  'level': 0,\n",
       "  'unit': 'hPa',\n",
       "  'values': [1032.4]},\n",
       " {'name': 'vis',\n",
       "  'levelType': 'hl',\n",
       "  'level': 2,\n",
       "  'unit': 'km',\n",
       "  'values': [12.9]},\n",
       " {'name': 'wd',\n",
       "  'levelType': 'hl',\n",
       "  'level': 10,\n",
       "  'unit': 'degree',\n",
       "  'values': [240]},\n",
       " {'name': 'ws',\n",
       "  'levelType': 'hl',\n",
       "  'level': 10,\n",
       "  'unit': 'm/s',\n",
       "  'values': [3.5]},\n",
       " {'name': 'r',\n",
       "  'levelType': 'hl',\n",
       "  'level': 2,\n",
       "  'unit': 'percent',\n",
       "  'values': [83]},\n",
       " {'name': 'tstm',\n",
       "  'levelType': 'hl',\n",
       "  'level': 0,\n",
       "  'unit': 'percent',\n",
       "  'values': [2.0]},\n",
       " {'name': 'gust',\n",
       "  'levelType': 'hl',\n",
       "  'level': 10,\n",
       "  'unit': 'm/s',\n",
       "  'values': [6.6]},\n",
       " {'name': 'Wsymb2',\n",
       "  'levelType': 'hl',\n",
       "  'level': 0,\n",
       "  'unit': 'category',\n",
       "  'values': [6]}]"
      ]
     },
     "metadata": {},
     "execution_count": 28
    }
   ],
   "metadata": {}
  },
  {
   "cell_type": "code",
   "execution_count": 29,
   "source": [
    "len(ts)"
   ],
   "outputs": [
    {
     "output_type": "execute_result",
     "data": {
      "text/plain": [
       "76"
      ]
     },
     "metadata": {},
     "execution_count": 29
    }
   ],
   "metadata": {}
  },
  {
   "cell_type": "code",
   "execution_count": null,
   "source": [],
   "outputs": [],
   "metadata": {}
  }
 ],
 "metadata": {
  "orig_nbformat": 4,
  "language_info": {
   "name": "python",
   "version": "3.8.11",
   "mimetype": "text/x-python",
   "codemirror_mode": {
    "name": "ipython",
    "version": 3
   },
   "pygments_lexer": "ipython3",
   "nbconvert_exporter": "python",
   "file_extension": ".py"
  },
  "kernelspec": {
   "name": "python3",
   "display_name": "Python 3.8.11 64-bit ('weather-env': conda)"
  },
  "interpreter": {
   "hash": "13484fda1dd1f06c0edf1ffc0ff153ab2a375d31c187c9464135ba718edab79a"
  }
 },
 "nbformat": 4,
 "nbformat_minor": 2
}