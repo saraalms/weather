{
 "cells": [
  {
   "cell_type": "code",
   "execution_count": 1,
   "source": [
    "import requests\n",
    "import pandas as pd\n",
    "import datetime\n",
    "from datetime import timezone\n",
    "from dateutil import parser as parser\n",
    "from dateutil.relativedelta import *"
   ],
   "outputs": [],
   "metadata": {}
  },
  {
   "cell_type": "code",
   "execution_count": 2,
   "source": [
    "yr_headers = {\n",
    "    'User-Agent': 'https://github.com/saraalms/weather',\n",
    "    'sitename': 'https://github.com/saraalms/weather',\n",
    "    'email': 'saraalms@kth.se',\n",
    "    'comment': 'This is just a student project, nothing commercial! Please contact me if you have any doubts or questions'\n",
    "}"
   ],
   "outputs": [],
   "metadata": {}
  },
  {
   "cell_type": "markdown",
   "source": [
    "# File names"
   ],
   "metadata": {}
  },
  {
   "cell_type": "code",
   "execution_count": null,
   "source": [
    "yr_csv_name = 'yr.csv'\n",
    "smhi_csv_name = 'smhi.csv'"
   ],
   "outputs": [],
   "metadata": {}
  },
  {
   "cell_type": "markdown",
   "source": [
    "URLS"
   ],
   "metadata": {}
  },
  {
   "cell_type": "code",
   "execution_count": 3,
   "source": [
    "class Urls:\n",
    "\n",
    "    def __init__(self, yr_headers):\n",
    "        self.smhi_base = 'https://opendata-download-metfcst.smhi.se'\n",
    "        self.smhi_params = '/api/category/pmp3g/version/2/parameter.json'\n",
    "        self.smhi_valid_times = '/api/category/pmp3g/version/2/validtime.json'\n",
    "        self.yr_headers = yr_headers\n",
    "\n",
    "    def get_smhi_point_url(self, lon, lat):\n",
    "        return self.smhi_base + f'/api/category/pmp3g/version/2/geotype/point/lon/{lon}/lat/{lat}/data.json'\n",
    "    \n",
    "    def get_yr_point_url(self, lon, lat):\n",
    "        return f'https://api.met.no/weatherapi/locationforecast/2.0/complete?lat={lat}&lon={lon}'\n",
    "\n",
    "    def get_smhi_params(self):\n",
    "        return self.smhi_base + self.smhi_params\n",
    "\n",
    "    def get_smhi_valid_times(self):\n",
    "        return self.smhi_base + self.smhi_valid_times\n",
    "\n",
    "    def get_yr_params(self, compact=False):\n",
    "        if compact:\n",
    "            respons = requests.get(f'https://api.met.no/weatherapi/locationforecast/2.0/compact?lat={59.3417}&lon={18.0549}', headers=self.yr_headers)\n",
    "        else:\n",
    "            respons = requests.get(f'https://api.met.no/weatherapi/locationforecast/2.0/complete?lat={59.3417}&lon={18.0549}', headers=self.yr_headers)\n",
    "        return list(respons.json()['properties']['meta']['units'].keys())"
   ],
   "outputs": [],
   "metadata": {}
  },
  {
   "cell_type": "code",
   "execution_count": 4,
   "source": [
    "class TimeStamps:\n",
    "\n",
    "    def __init__(self):\n",
    "        pass\n",
    "\n",
    "    def str_to_datetime(self, str_time):\n",
    "        return parser.parse(str_time)\n",
    "        \n",
    "    def datetime_to_str(self, datetime_time):\n",
    "        return datetime_time.strftime(\"%Y-%m-%dT%H:%M:%SZ\")\n",
    "\n",
    "    def datetime_diff(self, datetime_0, datetime_1):\n",
    "        return relativedelta(datetime_1, datetime_0)\n",
    "\n",
    "    def str_time_diff(self, time_0, time_1):\n",
    "        return self.datetime_diff(self.str_to_datetime(time_1), self.str_to_datetime(time_0))\n",
    "    \n",
    "    def get_current_datetime(self):\n",
    "        return self.str_to_datetime(self.datetime_to_str(datetime.datetime.utcnow()))\n",
    "    \n",
    "    def get_current_str_time(self):\n",
    "        return self.datetime_to_str(datetime.datetime.utcnow())"
   ],
   "outputs": [],
   "metadata": {}
  },
  {
   "cell_type": "code",
   "execution_count": 5,
   "source": [
    "class DataParser:\n",
    "\n",
    "    def __init__(self) -> None:\n",
    "        self.time_staps = TimeStamps()\n",
    "\n",
    "    def parse_yr_json(self, json_object):\n",
    "        dict_of_forecast_dict = {}\n",
    "        idx = 0\n",
    "\n",
    "        company = 'yr'\n",
    "        lat = yr_response['geometry']['coordinates'][0]\n",
    "        lon = yr_response['geometry']['coordinates'][1]\n",
    "        time_retrieved = self.time_staps.get_current_str_time()\n",
    "        \n",
    "        for forecast in yr_response['properties']['timeseries']:\n",
    "            forecast_dict = {'company': company, 'latitude': lat, 'longitude': lon}\n",
    "            forecast = yr_response['properties']['timeseries'][8]\n",
    "            forecast_dict['time_retrieved'] = time_retrieved\n",
    "            time_of_forecast = forecast['time']\n",
    "            forecast_dict['time_of_forecast'] = time_of_forecast\n",
    "            time_diff = self.time_staps.str_time_diff(time_retrieved, time_of_forecast)\n",
    "            forecast_dict['time_diff_days'] = time_diff.days\n",
    "            forecast_dict['time_diff_hours'] = time_diff.hours\n",
    "            forecast_dict['time_diff_minutes'] = time_diff.minutes\n",
    "\n",
    "            for key, val in forecast['data']['instant']['details'].items():\n",
    "                forecast_dict[key] = val\n",
    "\n",
    "            dict_of_forecast_dict[idx] = forecast_dict\n",
    "            idx += 1\n",
    "            \n",
    "        return dict_of_forecast_dict\n",
    "        \n",
    "    def dict_to_df(self, dict_of_dicts, df_to_add_to=False):\n",
    "        if type(df_to_add_to) == pd.core.frame.DataFrame:\n",
    "            df = df_to_add_to\n",
    "        else:\n",
    "            df = pd.DataFrame()\n",
    "        \n",
    "        for forecast_dict in dict_of_dicts.values():\n",
    "            df = df.append(forecast_dict, ignore_index=True)\n",
    "        \n",
    "        return df"
   ],
   "outputs": [],
   "metadata": {}
  },
  {
   "cell_type": "markdown",
   "source": [
    "Get parameters"
   ],
   "metadata": {}
  },
  {
   "cell_type": "code",
   "execution_count": 6,
   "source": [
    "my_urls = Urls(yr_headers)\n",
    "\n",
    "valid_times = requests.get(my_urls.get_smhi_valid_times()).json()\n",
    "\n",
    "parameter_response = requests.get(my_urls.get_smhi_params()).json()['parameter']\n",
    "smhi_parameter_dict = {}\n",
    "smhi_parameter_list = []\n",
    "for element in parameter_response:\n",
    "    smhi_parameter_list.append(element['name'])\n",
    "    smhi_parameter_dict[element['name']] = element\n",
    "\n",
    "yr_parameter_list = my_urls.get_yr_params()\n",
    "\n",
    "param_df = pd.read_csv('smhi_yr_dict.csv', delimiter=';')\n",
    "param_dict = dict(zip(param_df.smhi_name, param_df.yr_name))\n"
   ],
   "outputs": [],
   "metadata": {}
  },
  {
   "cell_type": "markdown",
   "source": [
    "Get locations with Name, Latitud, Longitud and Höjd (m)"
   ],
   "metadata": {}
  },
  {
   "cell_type": "code",
   "execution_count": 7,
   "source": [
    "locations_df = pd.read_csv('smhi_locations.csv', sep=';')\n",
    "locations_df = locations_df.where(locations_df['Aktiv']=='Ja').dropna().drop(columns=['Id', 'Aktiv'])\n",
    "\n",
    "selected_locations = ['Stockholm']"
   ],
   "outputs": [],
   "metadata": {}
  },
  {
   "cell_type": "code",
   "execution_count": 8,
   "source": [
    "for location in selected_locations:\n",
    "    lat = locations_df.where(locations_df['Namn'] == location).dropna()['Latitud'].values[0]\n",
    "    lon = locations_df.where(locations_df['Namn'] == location).dropna()['Longitud'].values[0]\n",
    "    smhi_response = requests.get(my_urls.get_smhi_point_url(lon, lat))\n",
    "    smhi_response = smhi_response.json()\n",
    "    yr_response = requests.get(my_urls.get_yr_point_url(lon, lat), headers=yr_headers)\n",
    "    yr_response = yr_response.json()"
   ],
   "outputs": [],
   "metadata": {}
  },
  {
   "cell_type": "code",
   "execution_count": 9,
   "source": [
    "my_parser = DataParser()\n",
    "yr_df = pd.read_csv(yr_csv_name, sep=';')\n",
    "dict_of_yr_dicts = my_parser.parse_yr_json(yr_response)\n",
    "yr_df = my_parser.dict_to_df(dict_of_yr_dicts, df_to_add_to=yr_df)\n",
    "\n",
    "yr_df.to_csv(yr_csv_name, sep=';')"
   ],
   "outputs": [],
   "metadata": {}
  },
  {
   "cell_type": "code",
   "execution_count": null,
   "source": [],
   "outputs": [],
   "metadata": {}
  }
 ],
 "metadata": {
  "orig_nbformat": 4,
  "language_info": {
   "name": "python",
   "version": "3.8.11",
   "mimetype": "text/x-python",
   "codemirror_mode": {
    "name": "ipython",
    "version": 3
   },
   "pygments_lexer": "ipython3",
   "nbconvert_exporter": "python",
   "file_extension": ".py"
  },
  "kernelspec": {
   "name": "python3",
   "display_name": "Python 3.8.11 64-bit ('weather-env': conda)"
  },
  "interpreter": {
   "hash": "13484fda1dd1f06c0edf1ffc0ff153ab2a375d31c187c9464135ba718edab79a"
  }
 },
 "nbformat": 4,
 "nbformat_minor": 2
}