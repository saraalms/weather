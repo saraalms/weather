{
 "cells": [
  {
   "cell_type": "code",
   "execution_count": 14,
   "source": [
    "from selenium import webdriver\n",
    "import pandas as pd"
   ],
   "outputs": [],
   "metadata": {}
  },
  {
   "cell_type": "code",
   "execution_count": 18,
   "source": [
    "driver = webdriver.Chrome('./chromedriver')"
   ],
   "outputs": [],
   "metadata": {}
  },
  {
   "cell_type": "code",
   "execution_count": 19,
   "source": [
    "url = \"https://www.smhi.se/vader/prognoser/ortsprognoser/q/Stockholm/2673730\""
   ],
   "outputs": [],
   "metadata": {}
  },
  {
   "cell_type": "code",
   "execution_count": 20,
   "source": [
    "driver.get(url)"
   ],
   "outputs": [],
   "metadata": {}
  },
  {
   "cell_type": "code",
   "execution_count": null,
   "source": [],
   "outputs": [],
   "metadata": {}
  }
 ],
 "metadata": {
  "orig_nbformat": 4,
  "language_info": {
   "name": "python",
   "version": "3.8.11",
   "mimetype": "text/x-python",
   "codemirror_mode": {
    "name": "ipython",
    "version": 3
   },
   "pygments_lexer": "ipython3",
   "nbconvert_exporter": "python",
   "file_extension": ".py"
  },
  "kernelspec": {
   "name": "python3",
   "display_name": "Python 3.8.11 64-bit ('weather-env': conda)"
  },
  "interpreter": {
   "hash": "13484fda1dd1f06c0edf1ffc0ff153ab2a375d31c187c9464135ba718edab79a"
  }
 },
 "nbformat": 4,
 "nbformat_minor": 2
}